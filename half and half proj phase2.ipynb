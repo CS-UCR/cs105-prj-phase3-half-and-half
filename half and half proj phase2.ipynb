{
  "nbformat": 4,
  "nbformat_minor": 0,
  "metadata": {
    "colab": {
      "name": "finalProject.ipynb",
      "provenance": [],
      "collapsed_sections": [],
      "toc_visible": true
    },
    "kernelspec": {
      "name": "python3",
      "display_name": "Python 3"
    }
  },
  "cells": [
    {
      "cell_type": "code",
      "metadata": {
        "id": "ficKgDD0n8Y9",
        "colab_type": "code",
        "outputId": "9f8d1da1-708f-40ed-fa55-89a8fbedd440",
        "colab": {
          "base_uri": "https://localhost:8080/",
          "height": 407
        }
      },
      "source": [
        "import pandas as pd\n",
        "df = pd.read_csv(\"top1000.csv\",  sep=',' , encoding='latin-1')\n",
        "df"
      ],
      "execution_count": 1,
      "outputs": [
        {
          "output_type": "execute_result",
          "data": {
            "text/html": [
              "<div>\n",
              "<style scoped>\n",
              "    .dataframe tbody tr th:only-of-type {\n",
              "        vertical-align: middle;\n",
              "    }\n",
              "\n",
              "    .dataframe tbody tr th {\n",
              "        vertical-align: top;\n",
              "    }\n",
              "\n",
              "    .dataframe thead th {\n",
              "        text-align: right;\n",
              "    }\n",
              "</style>\n",
              "<table border=\"1\" class=\"dataframe\">\n",
              "  <thead>\n",
              "    <tr style=\"text-align: right;\">\n",
              "      <th></th>\n",
              "      <th>ID</th>\n",
              "      <th>IMDB_rating</th>\n",
              "      <th>Title</th>\n",
              "      <th>Rated</th>\n",
              "      <th>Runtime</th>\n",
              "      <th>Genre</th>\n",
              "      <th>Votes</th>\n",
              "      <th>Gross</th>\n",
              "      <th>Metascore</th>\n",
              "    </tr>\n",
              "  </thead>\n",
              "  <tbody>\n",
              "    <tr>\n",
              "      <th>0</th>\n",
              "      <td>tt0111161</td>\n",
              "      <td>9.3</td>\n",
              "      <td>The Shawshank Redemption</td>\n",
              "      <td>R</td>\n",
              "      <td>142 min</td>\n",
              "      <td>Drama</td>\n",
              "      <td>2194115.0</td>\n",
              "      <td>$28.34M</td>\n",
              "      <td>80.0</td>\n",
              "    </tr>\n",
              "    <tr>\n",
              "      <th>1</th>\n",
              "      <td>tt0068646</td>\n",
              "      <td>9.2</td>\n",
              "      <td>The Godfather</td>\n",
              "      <td>R</td>\n",
              "      <td>175 min</td>\n",
              "      <td>Crime  Drama</td>\n",
              "      <td>1511727.0</td>\n",
              "      <td>$134.97M</td>\n",
              "      <td>100.0</td>\n",
              "    </tr>\n",
              "    <tr>\n",
              "      <th>2</th>\n",
              "      <td>tt0468569</td>\n",
              "      <td>9.0</td>\n",
              "      <td>The Dark Knight</td>\n",
              "      <td>PG-13</td>\n",
              "      <td>152 min</td>\n",
              "      <td>Action  Crime  Drama</td>\n",
              "      <td>2176590.0</td>\n",
              "      <td>$534.86M</td>\n",
              "      <td>84.0</td>\n",
              "    </tr>\n",
              "    <tr>\n",
              "      <th>3</th>\n",
              "      <td>tt0071562</td>\n",
              "      <td>9.0</td>\n",
              "      <td>The Godfather: Part II</td>\n",
              "      <td>R</td>\n",
              "      <td>202 min</td>\n",
              "      <td>Crime  Drama</td>\n",
              "      <td>1058941.0</td>\n",
              "      <td>$57.30M</td>\n",
              "      <td>90.0</td>\n",
              "    </tr>\n",
              "    <tr>\n",
              "      <th>4</th>\n",
              "      <td>tt0167260</td>\n",
              "      <td>8.9</td>\n",
              "      <td>The Lord of the Rings: The Return of the King</td>\n",
              "      <td>PG-13</td>\n",
              "      <td>201 min</td>\n",
              "      <td>Adventure  Drama  Fantasy</td>\n",
              "      <td>1560333.0</td>\n",
              "      <td>$377.85M</td>\n",
              "      <td>94.0</td>\n",
              "    </tr>\n",
              "    <tr>\n",
              "      <th>...</th>\n",
              "      <td>...</td>\n",
              "      <td>...</td>\n",
              "      <td>...</td>\n",
              "      <td>...</td>\n",
              "      <td>...</td>\n",
              "      <td>...</td>\n",
              "      <td>...</td>\n",
              "      <td>...</td>\n",
              "      <td>...</td>\n",
              "    </tr>\n",
              "    <tr>\n",
              "      <th>996</th>\n",
              "      <td>tt3390572</td>\n",
              "      <td>8.1</td>\n",
              "      <td>Haider</td>\n",
              "      <td>Not Rated</td>\n",
              "      <td>160 min</td>\n",
              "      <td>Crime  Drama  Thriller</td>\n",
              "      <td>47432.0</td>\n",
              "      <td>$0.90M</td>\n",
              "      <td>74.0</td>\n",
              "    </tr>\n",
              "    <tr>\n",
              "      <th>997</th>\n",
              "      <td>tt3315342</td>\n",
              "      <td>8.1</td>\n",
              "      <td>Logan</td>\n",
              "      <td>R</td>\n",
              "      <td>137 min</td>\n",
              "      <td>Action  Drama  Sci-Fi</td>\n",
              "      <td>601108.0</td>\n",
              "      <td>$226.28M</td>\n",
              "      <td>77.0</td>\n",
              "    </tr>\n",
              "    <tr>\n",
              "      <th>998</th>\n",
              "      <td>tt3170832</td>\n",
              "      <td>8.1</td>\n",
              "      <td>Room</td>\n",
              "      <td>R</td>\n",
              "      <td>118 min</td>\n",
              "      <td>Drama  Thriller</td>\n",
              "      <td>338080.0</td>\n",
              "      <td>$14.68M</td>\n",
              "      <td>86.0</td>\n",
              "    </tr>\n",
              "    <tr>\n",
              "      <th>999</th>\n",
              "      <td>tt3011894</td>\n",
              "      <td>8.1</td>\n",
              "      <td>Relatos salvajes</td>\n",
              "      <td>R</td>\n",
              "      <td>122 min</td>\n",
              "      <td>Comedy  Drama  Thriller</td>\n",
              "      <td>160501.0</td>\n",
              "      <td>$3.11M</td>\n",
              "      <td>77.0</td>\n",
              "    </tr>\n",
              "    <tr>\n",
              "      <th>1000</th>\n",
              "      <td></td>\n",
              "      <td>NaN</td>\n",
              "      <td>NaN</td>\n",
              "      <td>NaN</td>\n",
              "      <td>NaN</td>\n",
              "      <td>NaN</td>\n",
              "      <td>NaN</td>\n",
              "      <td>NaN</td>\n",
              "      <td>NaN</td>\n",
              "    </tr>\n",
              "  </tbody>\n",
              "</table>\n",
              "<p>1001 rows × 9 columns</p>\n",
              "</div>"
            ],
            "text/plain": [
              "                     ID  IMDB_rating  ...     Gross Metascore\n",
              "0             tt0111161          9.3  ...   $28.34M      80.0\n",
              "1             tt0068646          9.2  ...  $134.97M     100.0\n",
              "2             tt0468569          9.0  ...  $534.86M      84.0\n",
              "3             tt0071562          9.0  ...   $57.30M      90.0\n",
              "4             tt0167260          8.9  ...  $377.85M      94.0\n",
              "...                 ...          ...  ...       ...       ...\n",
              "996           tt3390572          8.1  ...    $0.90M      74.0\n",
              "997           tt3315342          8.1  ...  $226.28M      77.0\n",
              "998           tt3170832          8.1  ...   $14.68M      86.0\n",
              "999           tt3011894          8.1  ...    $3.11M      77.0\n",
              "1000                             NaN  ...       NaN       NaN\n",
              "\n",
              "[1001 rows x 9 columns]"
            ]
          },
          "metadata": {
            "tags": []
          },
          "execution_count": 1
        }
      ]
    },
    {
      "cell_type": "code",
      "metadata": {
        "id": "PExkdxTttlhR",
        "colab_type": "code",
        "colab": {}
      },
      "source": [
        "df = df[:-1]"
      ],
      "execution_count": 0,
      "outputs": []
    },
    {
      "cell_type": "code",
      "metadata": {
        "id": "_jNsjUt2CYsj",
        "colab_type": "code",
        "colab": {
          "base_uri": "https://localhost:8080/",
          "height": 290
        },
        "outputId": "f709af32-b7ad-4cc8-bf6b-420bb99b9c8f"
      },
      "source": [
        "df['Runtime'] = df['Runtime'].str.replace('min', '').astype(int)\n",
        "df.Runtime.describe()"
      ],
      "execution_count": 3,
      "outputs": [
        {
          "output_type": "stream",
          "text": [
            "/usr/local/lib/python3.6/dist-packages/ipykernel_launcher.py:1: SettingWithCopyWarning: \n",
            "A value is trying to be set on a copy of a slice from a DataFrame.\n",
            "Try using .loc[row_indexer,col_indexer] = value instead\n",
            "\n",
            "See the caveats in the documentation: http://pandas.pydata.org/pandas-docs/stable/user_guide/indexing.html#returning-a-view-versus-a-copy\n",
            "  \"\"\"Entry point for launching an IPython kernel.\n"
          ],
          "name": "stderr"
        },
        {
          "output_type": "execute_result",
          "data": {
            "text/plain": [
              "count    1000.000000\n",
              "mean      135.682000\n",
              "std        34.816247\n",
              "min        45.000000\n",
              "25%       115.000000\n",
              "50%       132.000000\n",
              "75%       156.000000\n",
              "max       321.000000\n",
              "Name: Runtime, dtype: float64"
            ]
          },
          "metadata": {
            "tags": []
          },
          "execution_count": 3
        }
      ]
    },
    {
      "cell_type": "code",
      "metadata": {
        "id": "7IjcEn7fuEjS",
        "colab_type": "code",
        "colab": {
          "base_uri": "https://localhost:8080/",
          "height": 297
        },
        "outputId": "5030693c-d7de-4b74-9a6c-1782698a9224"
      },
      "source": [
        "df.plot.scatter(y='IMDB_rating', x='Runtime')"
      ],
      "execution_count": 4,
      "outputs": [
        {
          "output_type": "execute_result",
          "data": {
            "text/plain": [
              "<matplotlib.axes._subplots.AxesSubplot at 0x7fef389b10b8>"
            ]
          },
          "metadata": {
            "tags": []
          },
          "execution_count": 4
        },
        {
          "output_type": "display_data",
          "data": {
            "image/png": "[encoded data removed]",
            "text/plain": [
              "<Figure size 432x288 with 1 Axes>"
            ]
          },
          "metadata": {
            "tags": []
          }
        }
      ]
    },
    {
      "cell_type": "code",
      "metadata": {
        "id": "y_DLIz-Luixr",
        "colab_type": "code",
        "colab": {
          "base_uri": "https://localhost:8080/",
          "height": 297
        },
        "outputId": "109d8039-4f31-465b-9d36-7f9914aa9d5d"
      },
      "source": [
        "df.plot.scatter(y='Metascore', x='Runtime')"
      ],
      "execution_count": 5,
      "outputs": [
        {
          "output_type": "execute_result",
          "data": {
            "text/plain": [
              "<matplotlib.axes._subplots.AxesSubplot at 0x7fef360e9320>"
            ]
          },
          "metadata": {
            "tags": []
          },
          "execution_count": 5
        },
        {
          "output_type": "display_data",
          "data": {
            "image/png": "[encoded data removed]",
            "text/plain": [
              "<Figure size 432x288 with 1 Axes>"
            ]
          },
          "metadata": {
            "tags": []
          }
        }
      ]
    },
    {
      "cell_type": "code",
      "metadata": {
        "id": "RRjncrv7CIbN",
        "colab_type": "code",
        "colab": {
          "base_uri": "https://localhost:8080/",
          "height": 313
        },
        "outputId": "01cf859a-805f-4b20-acce-4ca144bf6b85"
      },
      "source": [
        "df.groupby(\"Rated\")[\"IMDB_rating\"].mean().plot(title = \"content rating vs imdb score\")\n"
      ],
      "execution_count": 6,
      "outputs": [
        {
          "output_type": "execute_result",
          "data": {
            "text/plain": [
              "<matplotlib.axes._subplots.AxesSubplot at 0x7fef35bf6390>"
            ]
          },
          "metadata": {
            "tags": []
          },
          "execution_count": 6
        },
        {
          "output_type": "display_data",
          "data": {
            "image/png": "[encoded data removed]",
            "text/plain": [
              "<Figure size 432x288 with 1 Axes>"
            ]
          },
          "metadata": {
            "tags": []
          }
        }
      ]
    },
    {
      "cell_type": "code",
      "metadata": {
        "id": "BPg2zXoUJSEb",
        "colab_type": "code",
        "outputId": "cb2bba6e-de31-414f-9391-b009f433b41f",
        "colab": {
          "base_uri": "https://localhost:8080/",
          "height": 313
        }
      },
      "source": [
        "df.groupby(\"Rated\")[\"Metascore\"].mean().plot(title = \"content rating vs metascore\")\n"
      ],
      "execution_count": 7,
      "outputs": [
        {
          "output_type": "execute_result",
          "data": {
            "text/plain": [
              "<matplotlib.axes._subplots.AxesSubplot at 0x7fef35bd6e48>"
            ]
          },
          "metadata": {
            "tags": []
          },
          "execution_count": 7
        },
        {
          "output_type": "display_data",
          "data": {
            "image/png": "[encoded data removed]",
            "text/plain": [
              "<Figure size 432x288 with 1 Axes>"
            ]
          },
          "metadata": {
            "tags": []
          }
        }
      ]
    },
    {
      "cell_type": "code",
      "metadata": {
        "id": "GWBkKl403ccT",
        "colab_type": "code",
        "outputId": "73cd1bc4-206c-46cc-d8f4-ba1171e45cdb",
        "colab": {
          "base_uri": "https://localhost:8080/",
          "height": 517
        }
      },
      "source": [
        "x = [50, 55, 60, 65, 70, 75, 80, 85, 90 ,95, 100]\n",
        "y = [0, 25, 50, 75, 100 ,125, 150, 175, 200, 225, 250]\n",
        "df.Metascore.plot.hist(title = \"Frequency of Metascores\", grid = True, xticks = x, yticks = y, figsize = (8,8))"
      ],
      "execution_count": 8,
      "outputs": [
        {
          "output_type": "execute_result",
          "data": {
            "text/plain": [
              "<matplotlib.axes._subplots.AxesSubplot at 0x7fef35b58748>"
            ]
          },
          "metadata": {
            "tags": []
          },
          "execution_count": 8
        },
        {
          "output_type": "display_data",
          "data": {
            "image/png": "[encoded data removed]",
            "text/plain": [
              "<Figure size 576x576 with 1 Axes>"
            ]
          },
          "metadata": {
            "tags": []
          }
        }
      ]
    },
    {
      "cell_type": "code",
      "metadata": {
        "id": "DqJM81fP3iif",
        "colab_type": "code",
        "colab": {
          "base_uri": "https://localhost:8080/",
          "height": 517
        },
        "outputId": "7315bb00-48d0-4d0c-baf2-9c668813f316"
      },
      "source": [
        "x = [8.0, 8.2, 8.4, 8.6, 8.8, 9.0, 9.2, 9.4, 9.6, 9.8, 10.0]\n",
        "y = [0, 10, 25, 50 ,75, 100, 200, 300, 400, 500, 600, 700]\n",
        "df.IMDB_rating.plot.hist(title = \"Frequency of IMDB Ratings\", grid = True, xticks = x, yticks = y, figsize = (8,8))"
      ],
      "execution_count": 9,
      "outputs": [
        {
          "output_type": "execute_result",
          "data": {
            "text/plain": [
              "<matplotlib.axes._subplots.AxesSubplot at 0x7fef35b58588>"
            ]
          },
          "metadata": {
            "tags": []
          },
          "execution_count": 9
        },
        {
          "output_type": "display_data",
          "data": {
            "image/png": "[encoded data removed]",
            "text/plain": [
              "<Figure size 576x576 with 1 Axes>"
            ]
          },
          "metadata": {
            "tags": []
          }
        }
      ]
    },
    {
      "cell_type": "code",
      "metadata": {
        "id": "Xcg4-Db0J9DI",
        "colab_type": "code",
        "colab": {
          "base_uri": "https://localhost:8080/",
          "height": 55
        },
        "outputId": "ae6d995d-5c6f-4235-9ec8-30b827058a4d"
      },
      "source": [
        "'''\n",
        "Requirements:\n",
        "- [] Histogram\n",
        "- [x] 2 scatterplots or pair wise scatterplot\n",
        "- [] a parallel coordinates plot\n",
        "- [] a box plot\n",
        "- [] a readme file \n",
        "\n",
        "if any of the types of plots don't apply, we can use an alternative one with an explanation\n",
        "'''"
      ],
      "execution_count": 10,
      "outputs": [
        {
          "output_type": "execute_result",
          "data": {
            "text/plain": [
              "\"\\nRequirements:\\n- [] Histogram\\n- [x] 2 scatterplots or pair wise scatterplot\\n- [] a parallel coordinates plot\\n- [] a box plot\\n- [] a readme file \\n\\nif any of the types of plots don't apply, we can use an alternative one with an explanation\\n\""
            ]
          },
          "metadata": {
            "tags": []
          },
          "execution_count": 10
        }
      ]
    },
    {
      "cell_type": "code",
      "metadata": {
        "id": "C6sto1auJ9Cn",
        "colab_type": "code",
        "colab": {}
      },
      "source": [
        ""
      ],
      "execution_count": 0,
      "outputs": []
    },
    {
      "cell_type": "code",
      "metadata": {
        "id": "5bOTHv5FJSTU",
        "colab_type": "code",
        "colab": {}
      },
      "source": [
        ""
      ],
      "execution_count": 0,
      "outputs": []
    }
  ]
}